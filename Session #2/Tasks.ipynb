{
 "cells": [
  {
   "cell_type": "markdown",
   "id": "aa9746f9",
   "metadata": {},
   "source": [
    "## Task #1"
   ]
  },
  {
   "cell_type": "markdown",
   "id": "683a3343",
   "metadata": {},
   "source": [
    "#### Take the password as input, but in an obsecure format. "
   ]
  },
  {
   "cell_type": "markdown",
   "id": "1b8be034",
   "metadata": {},
   "source": [
    "##### Leverage the library of getpass: "
   ]
  },
  {
   "cell_type": "code",
   "execution_count": 1,
   "id": "4ebbdb22",
   "metadata": {
    "ExecuteTime": {
     "end_time": "2022-08-31T13:51:16.145349Z",
     "start_time": "2022-08-31T13:51:12.950167Z"
    }
   },
   "outputs": [
    {
     "name": "stdout",
     "output_type": "stream",
     "text": [
      "········\n"
     ]
    }
   ],
   "source": [
    "import getpass\n",
    "p = getpass.getpass()"
   ]
  },
  {
   "cell_type": "code",
   "execution_count": 2,
   "id": "ac633dc5",
   "metadata": {
    "ExecuteTime": {
     "end_time": "2022-08-31T13:51:19.332831Z",
     "start_time": "2022-08-31T13:51:19.309825Z"
    }
   },
   "outputs": [
    {
     "data": {
      "text/plain": [
       "'44'"
      ]
     },
     "execution_count": 2,
     "metadata": {},
     "output_type": "execute_result"
    }
   ],
   "source": [
    "p"
   ]
  },
  {
   "cell_type": "markdown",
   "id": "aede04ae",
   "metadata": {},
   "source": [
    "## Task #2"
   ]
  },
  {
   "cell_type": "markdown",
   "id": "74425674",
   "metadata": {},
   "source": [
    "#### What is the jupyter equvalint but for C++.  "
   ]
  },
  {
   "cell_type": "markdown",
   "id": "59287a6f",
   "metadata": {},
   "source": [
    "###### xeus-cling\n",
    "  - Because of C++ is compiled, it has to act like an interpreted so, here comes the role of <a href=\"https://github.com/root-project/cling\" > Cling </a>"
   ]
  },
  {
   "cell_type": "markdown",
   "id": "d7ebc979",
   "metadata": {},
   "source": [
    "read more about xeus-cling and installation guide:\n",
    "https://github.com/jupyter-xeus/xeus-cling"
   ]
  },
  {
   "cell_type": "markdown",
   "id": "46abecbf",
   "metadata": {},
   "source": [
    "### Task #3"
   ]
  },
  {
   "cell_type": "markdown",
   "id": "1d6d0fb4",
   "metadata": {},
   "source": [
    "semulate do-while loop"
   ]
  },
  {
   "cell_type": "code",
   "execution_count": 9,
   "id": "af11aa18",
   "metadata": {
    "ExecuteTime": {
     "end_time": "2022-08-31T13:58:15.281478Z",
     "start_time": "2022-08-31T13:58:15.276443Z"
    }
   },
   "outputs": [
    {
     "name": "stdout",
     "output_type": "stream",
     "text": [
      "some code\n"
     ]
    }
   ],
   "source": [
    "flag = True\n",
    "condition = (4==5)\n",
    "while flag:\n",
    "#     code here will run at least one time even if the condition is false\n",
    "    print('some code')\n",
    "    if condition:\n",
    "        print('do some thing')\n",
    "    else:\n",
    "        flag = False"
   ]
  },
  {
   "cell_type": "markdown",
   "id": "04c3bcf7",
   "metadata": {},
   "source": [
    "## Task #4 \n",
    "  - not solved\n",
    "  "
   ]
  },
  {
   "cell_type": "code",
   "execution_count": 1,
   "id": "d643886e",
   "metadata": {
    "ExecuteTime": {
     "end_time": "2022-08-31T21:50:18.753147Z",
     "start_time": "2022-08-31T21:50:18.223605Z"
    }
   },
   "outputs": [
    {
     "ename": "NameError",
     "evalue": "name 'i' is not defined",
     "output_type": "error",
     "traceback": [
      "\u001b[0;31m---------------------------------------------------------------------------\u001b[0m",
      "\u001b[0;31mNameError\u001b[0m                                 Traceback (most recent call last)",
      "Input \u001b[0;32mIn [1]\u001b[0m, in \u001b[0;36m<cell line: 2>\u001b[0;34m()\u001b[0m\n\u001b[1;32m      1\u001b[0m increment \u001b[38;5;241m=\u001b[39m \u001b[38;5;241m2\u001b[39m\n\u001b[0;32m----> 2\u001b[0m \u001b[38;5;28;01mfor\u001b[39;00m i \u001b[38;5;129;01min\u001b[39;00m \u001b[38;5;28mrange\u001b[39m(\u001b[38;5;241m0\u001b[39m, \u001b[38;5;241m100\u001b[39m, increment\u001b[38;5;241m*\u001b[39m(\u001b[43mi\u001b[49m)):\n\u001b[1;32m      3\u001b[0m     \u001b[38;5;28mprint\u001b[39m(i)\n",
      "\u001b[0;31mNameError\u001b[0m: name 'i' is not defined"
     ]
    }
   ],
   "source": [
    "increment = 2\n",
    "for i in range(0, 100, increment*(i)):\n",
    "    print(i)\n",
    "#     increment *= 2\n"
   ]
  },
  {
   "cell_type": "markdown",
   "id": "874e6771",
   "metadata": {},
   "source": [
    "### Task #5 "
   ]
  },
  {
   "cell_type": "markdown",
   "id": "c493a4cc",
   "metadata": {},
   "source": [
    "  - not solved  "
   ]
  },
  {
   "cell_type": "markdown",
   "id": "c16d5f46",
   "metadata": {},
   "source": [
    "### Task #6"
   ]
  },
  {
   "cell_type": "markdown",
   "id": "8b68fed5",
   "metadata": {},
   "source": [
    "Important rules for clean code:"
   ]
  },
  {
   "cell_type": "markdown",
   "id": "7875ba37",
   "metadata": {
    "ExecuteTime": {
     "end_time": "2022-08-31T21:51:55.025279Z",
     "start_time": "2022-08-31T21:51:55.017603Z"
    }
   },
   "source": [
    "  - I have found this amazing article: <a href=\"https://media-exp1.licdn.com/dms/document/C561FAQHe7N5VSBurbw/feedshare-document-pdf-analyzed/0/1661966060091?e=1662595200&v=beta&t=QZkHXlHYvkgBznQpoHVjOZhX32QLRnH5rrIj8lGiKlk\">click</a>"
   ]
  },
  {
   "cell_type": "markdown",
   "id": "5eab726f",
   "metadata": {},
   "source": [
    "### Task #7"
   ]
  },
  {
   "cell_type": "markdown",
   "id": "6243628c",
   "metadata": {},
   "source": [
    "  - dependency injection"
   ]
  },
  {
   "cell_type": "markdown",
   "id": "98ae888a",
   "metadata": {},
   "source": [
    "https://www.youtube.com/playlist?list=PL3aG1K3LWCrfvjEBkx3ujAtg7yK0zzTiY"
   ]
  },
  {
   "cell_type": "markdown",
   "id": "a3f9aa9a",
   "metadata": {},
   "source": [
    "### Task #8"
   ]
  },
  {
   "cell_type": "markdown",
   "id": "efcfde24",
   "metadata": {},
   "source": [
    "#### Why recursion is faster than iteration ?"
   ]
  },
  {
   "cell_type": "markdown",
   "id": "905ea647",
   "metadata": {},
   "source": [
    "###  Task #9"
   ]
  },
  {
   "cell_type": "markdown",
   "id": "41b03291",
   "metadata": {},
   "source": [
    "Information about Threads in os."
   ]
  },
  {
   "cell_type": "code",
   "execution_count": null,
   "id": "4dd69fdf",
   "metadata": {},
   "outputs": [],
   "source": []
  }
 ],
 "metadata": {
  "kernelspec": {
   "display_name": "Python 3 (ipykernel)",
   "language": "python",
   "name": "python3"
  },
  "language_info": {
   "codemirror_mode": {
    "name": "ipython",
    "version": 3
   },
   "file_extension": ".py",
   "mimetype": "text/x-python",
   "name": "python",
   "nbconvert_exporter": "python",
   "pygments_lexer": "ipython3",
   "version": "3.9.12"
  },
  "latex_envs": {
   "LaTeX_envs_menu_present": true,
   "autoclose": false,
   "autocomplete": true,
   "bibliofile": "biblio.bib",
   "cite_by": "apalike",
   "current_citInitial": 1,
   "eqLabelWithNumbers": true,
   "eqNumInitial": 1,
   "hotkeys": {
    "equation": "Ctrl-E",
    "itemize": "Ctrl-I"
   },
   "labels_anchors": false,
   "latex_user_defs": false,
   "report_style_numbering": false,
   "user_envs_cfg": false
  }
 },
 "nbformat": 4,
 "nbformat_minor": 5
}
